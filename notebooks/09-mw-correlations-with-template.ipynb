{
 "cells": [
  {
   "cell_type": "markdown",
   "metadata": {},
   "source": [
    "# Correlate timecourses with templates  \n",
    "\n",
    "Use the z-scored timeseries to correlate one patient's individual volumes with the average activity maps of the other patients."
   ]
  },
  {
   "cell_type": "markdown",
   "metadata": {},
   "source": [
    "### import modules"
   ]
  },
  {
   "cell_type": "code",
   "execution_count": 2,
   "metadata": {},
   "outputs": [],
   "source": [
    "import os\n",
    "import pickle\n",
    "\n",
    "import numpy as np\n",
    "import pandas as pd\n",
    "\n",
    "from nilearn import input_data, plotting, image\n",
    "\n",
    "import matplotlib.pyplot as plt\n",
    "import seaborn as sns"
   ]
  },
  {
   "cell_type": "code",
   "execution_count": 2,
   "metadata": {
    "collapsed": true
   },
   "outputs": [],
   "source": [
    "sns.set_context('poster')"
   ]
  },
  {
   "cell_type": "code",
   "execution_count": null,
   "metadata": {},
   "outputs": [],
   "source": [
    "# after converstion to .py, we can use __file__ to get the module folder\n",
    "try:\n",
    "    thisDir = os.path.realpath(__file__)\n",
    "# in notebook form, we take the current working directory (we need to be in 'notebooks/' for this!)\n",
    "except:\n",
    "    thisDir = '.'\n",
    "# convert relative path into absolute path, so this will work with notebooks and py modules\n",
    "supDir = os.path.abspath(os.path.join(os.path.dirname(thisDir), '..'))\n",
    "\n",
    "supDir"
   ]
  },
  {
   "cell_type": "markdown",
   "metadata": {},
   "source": [
    "### get data"
   ]
  },
  {
   "cell_type": "code",
   "execution_count": 6,
   "metadata": {
    "collapsed": true,
    "scrolled": true,
    "tags": [
     "hide-cell"
    ]
   },
   "outputs": [],
   "source": [
    "data_df = pd.read_csv(\n",
    "    '../data/interim/csv/info_epi_zscored_zdiff_summarymaps_2dpredclean_df.csv',\n",
    "    index_col=[0],\n",
    "    header=0)\n",
    "\n",
    "data_df.index = [data_df.loc[:, 'wada'], data_df.index]\n",
    "data_df = data_df.sort_index()"
   ]
  },
  {
   "cell_type": "code",
   "execution_count": 7,
   "metadata": {
    "tags": [
     "hide-cell"
    ]
   },
   "outputs": [
    {
     "data": {
      "text/plain": [
       "(96, 15)"
      ]
     },
     "execution_count": 7,
     "metadata": {},
     "output_type": "execute_result"
    }
   ],
   "source": [
    "data_df.shape"
   ]
  },
  {
   "cell_type": "code",
   "execution_count": null,
   "metadata": {
    "tags": [
     "hide-cell"
    ]
   },
   "outputs": [],
   "source": [
    "data_df[::20]"
   ]
  },
  {
   "cell_type": "markdown",
   "metadata": {},
   "source": [
    "### masker"
   ]
  },
  {
   "cell_type": "markdown",
   "metadata": {},
   "source": [
    "#### whole brain masker"
   ]
  },
  {
   "cell_type": "code",
   "execution_count": 13,
   "metadata": {
    "collapsed": true
   },
   "outputs": [],
   "source": [
    "mask_file = os.path.join(supDir,'data','external','MNI152_T1_2mm_brain_mask.nii.gz')\n",
    "whole_brain_masker = input_data.NiftiMasker(mask_file).fit()"
   ]
  },
  {
   "cell_type": "code",
   "execution_count": 14,
   "metadata": {
    "tags": [
     "hide-cell"
    ]
   },
   "outputs": [
    {
     "data": {
      "text/plain": [
       "<nilearn.plotting.displays.OrthoSlicer at 0x7fdcd726a190>"
      ]
     },
     "execution_count": 14,
     "metadata": {},
     "output_type": "execute_result"
    },
    {
     "data": {
      "image/png": "[encoded data removed]",
      "text/plain": [
       "<matplotlib.figure.Figure at 0x7fdcdf3a8710>"
      ]
     },
     "metadata": {},
     "output_type": "display_data"
    }
   ],
   "source": [
    "plotting.plot_roi(whole_brain_masker.mask_img_)"
   ]
  },
  {
   "cell_type": "markdown",
   "metadata": {},
   "source": [
    "#### template image from our previous work (independent patient sample)"
   ]
  },
  {
   "cell_type": "code",
   "execution_count": 15,
   "metadata": {
    "collapsed": true
   },
   "outputs": [],
   "source": [
    "template_im = os.path.join(supDir,'models','tMap_diff_left.nii.gz')"
   ]
  },
  {
   "cell_type": "code",
   "execution_count": 16,
   "metadata": {
    "tags": [
     "hide-cell"
    ]
   },
   "outputs": [
    {
     "data": {
      "text/plain": [
       "<nilearn.plotting.displays.OrthoSlicer at 0x7fdcd6f4fbd0>"
      ]
     },
     "execution_count": 16,
     "metadata": {},
     "output_type": "execute_result"
    },
    {
     "data": {
      "image/png": "[encoded data removed]",
      "text/plain": [
       "<matplotlib.figure.Figure at 0x7fdce900fa90>"
      ]
     },
     "metadata": {},
     "output_type": "display_data"
    }
   ],
   "source": [
    "plotting.plot_stat_map(template_im,title=template_im)"
   ]
  },
  {
   "cell_type": "markdown",
   "metadata": {},
   "source": [
    "### make mask with all positive values"
   ]
  },
  {
   "cell_type": "code",
   "execution_count": 17,
   "metadata": {
    "collapsed": true
   },
   "outputs": [],
   "source": [
    "data = whole_brain_masker.transform(template_im)"
   ]
  },
  {
   "cell_type": "code",
   "execution_count": 18,
   "metadata": {
    "collapsed": true
   },
   "outputs": [],
   "source": [
    "my_data = data>0"
   ]
  },
  {
   "cell_type": "code",
   "execution_count": 19,
   "metadata": {
    "collapsed": true
   },
   "outputs": [],
   "source": [
    "template_mask = whole_brain_masker.inverse_transform(my_data)\n",
    "masker = input_data.NiftiMasker(template_mask).fit()"
   ]
  },
  {
   "cell_type": "code",
   "execution_count": 20,
   "metadata": {
    "tags": [
     "hide-cell"
    ]
   },
   "outputs": [
    {
     "data": {
      "text/plain": [
       "<nilearn.plotting.displays.OrthoSlicer at 0x7fdcd6bc3ed0>"
      ]
     },
     "execution_count": 20,
     "metadata": {},
     "output_type": "execute_result"
    },
    {
     "data": {
      "image/png": "[encoded data removed]",
      "text/plain": [
       "<matplotlib.figure.Figure at 0x7fdcdf966e90>"
      ]
     },
     "metadata": {},
     "output_type": "display_data"
    }
   ],
   "source": [
    "plotting.plot_roi(masker.mask_img_)"
   ]
  },
  {
   "cell_type": "markdown",
   "metadata": {},
   "source": [
    "### get data from mask"
   ]
  },
  {
   "cell_type": "code",
   "execution_count": 21,
   "metadata": {},
   "outputs": [
    {
     "data": {
      "text/html": [
       "<div>\n",
       "<table border=\"1\" class=\"dataframe\">\n",
       "  <thead>\n",
       "    <tr style=\"text-align: right;\">\n",
       "      <th></th>\n",
       "      <th>0</th>\n",
       "      <th>1</th>\n",
       "      <th>2</th>\n",
       "      <th>3</th>\n",
       "      <th>4</th>\n",
       "      <th>5</th>\n",
       "      <th>6</th>\n",
       "      <th>7</th>\n",
       "      <th>8</th>\n",
       "      <th>9</th>\n",
       "      <th>...</th>\n",
       "      <th>83348</th>\n",
       "      <th>83349</th>\n",
       "      <th>83350</th>\n",
       "      <th>83351</th>\n",
       "      <th>83352</th>\n",
       "      <th>83353</th>\n",
       "      <th>83354</th>\n",
       "      <th>83355</th>\n",
       "      <th>83356</th>\n",
       "      <th>83357</th>\n",
       "    </tr>\n",
       "  </thead>\n",
       "  <tbody>\n",
       "    <tr>\n",
       "      <th>template</th>\n",
       "      <td>3.445243</td>\n",
       "      <td>3.614059</td>\n",
       "      <td>3.326242</td>\n",
       "      <td>3.111461</td>\n",
       "      <td>4.105546</td>\n",
       "      <td>4.867407</td>\n",
       "      <td>4.707578</td>\n",
       "      <td>3.900402</td>\n",
       "      <td>3.285692</td>\n",
       "      <td>3.031834</td>\n",
       "      <td>...</td>\n",
       "      <td>5.437006</td>\n",
       "      <td>5.590981</td>\n",
       "      <td>4.221958</td>\n",
       "      <td>4.216458</td>\n",
       "      <td>3.891765</td>\n",
       "      <td>4.063703</td>\n",
       "      <td>4.220668</td>\n",
       "      <td>3.81145</td>\n",
       "      <td>3.704904</td>\n",
       "      <td>3.586174</td>\n",
       "    </tr>\n",
       "  </tbody>\n",
       "</table>\n",
       "<p>1 rows × 83358 columns</p>\n",
       "</div>"
      ],
      "text/plain": [
       "             0         1         2         3         4         5      \\\n",
       "template  3.445243  3.614059  3.326242  3.111461  4.105546  4.867407   \n",
       "\n",
       "             6         7         8         9        ...        83348  \\\n",
       "template  4.707578  3.900402  3.285692  3.031834    ...     5.437006   \n",
       "\n",
       "             83349     83350     83351     83352     83353     83354    83355  \\\n",
       "template  5.590981  4.221958  4.216458  3.891765  4.063703  4.220668  3.81145   \n",
       "\n",
       "             83356     83357  \n",
       "template  3.704904  3.586174  \n",
       "\n",
       "[1 rows x 83358 columns]"
      ]
     },
     "execution_count": 21,
     "metadata": {},
     "output_type": "execute_result"
    }
   ],
   "source": [
    "template_df = pd.DataFrame(masker.transform(template_im),index=['template'])\n",
    "template_df"
   ]
  },
  {
   "cell_type": "markdown",
   "metadata": {},
   "source": [
    "### get data from target patient\n",
    "\n",
    "We get every single volume"
   ]
  },
  {
   "cell_type": "code",
   "execution_count": 22,
   "metadata": {
    "collapsed": true,
    "tags": [
     "hide-cell"
    ]
   },
   "outputs": [],
   "source": [
    "def make_timecourse_df(this_idx, col_name, data_df=data_df, masker=masker):\n",
    "    \"\"\"extract data from 4d-image. The image is taken from the data_df table\"\"\"\n",
    "\n",
    "    # select the image using row and column indexing\n",
    "    this_im = data_df.loc[this_idx, col_name]\n",
    "    # extract whole-brain data\n",
    "    this_data = masker.transform(this_im)\n",
    "    # transform into df with default numbering of rows and columns\n",
    "    this_df = pd.DataFrame(this_data)\n",
    "\n",
    "    return this_df"
   ]
  },
  {
   "cell_type": "code",
   "execution_count": 23,
   "metadata": {
    "collapsed": true,
    "tags": [
     "hide-cell"
    ]
   },
   "outputs": [],
   "source": [
    "p_name = data_df.index[0]"
   ]
  },
  {
   "cell_type": "code",
   "execution_count": 24,
   "metadata": {
    "collapsed": true,
    "tags": [
     "hide-cell"
    ]
   },
   "outputs": [],
   "source": [
    "this_df = make_timecourse_df(p_name, 'z-scored-diff')"
   ]
  },
  {
   "cell_type": "code",
   "execution_count": 25,
   "metadata": {
    "tags": [
     "hide-cell"
    ]
   },
   "outputs": [
    {
     "data": {
      "text/html": [
       "<div>\n",
       "<table border=\"1\" class=\"dataframe\">\n",
       "  <thead>\n",
       "    <tr style=\"text-align: right;\">\n",
       "      <th></th>\n",
       "      <th>0</th>\n",
       "      <th>1</th>\n",
       "      <th>2</th>\n",
       "      <th>3</th>\n",
       "      <th>4</th>\n",
       "      <th>5</th>\n",
       "      <th>6</th>\n",
       "      <th>7</th>\n",
       "      <th>8</th>\n",
       "      <th>9</th>\n",
       "      <th>...</th>\n",
       "      <th>83348</th>\n",
       "      <th>83349</th>\n",
       "      <th>83350</th>\n",
       "      <th>83351</th>\n",
       "      <th>83352</th>\n",
       "      <th>83353</th>\n",
       "      <th>83354</th>\n",
       "      <th>83355</th>\n",
       "      <th>83356</th>\n",
       "      <th>83357</th>\n",
       "    </tr>\n",
       "  </thead>\n",
       "  <tbody>\n",
       "    <tr>\n",
       "      <th>195</th>\n",
       "      <td>-1.511155</td>\n",
       "      <td>-1.652787</td>\n",
       "      <td>-1.653670</td>\n",
       "      <td>-1.309035</td>\n",
       "      <td>-0.887515</td>\n",
       "      <td>-0.704757</td>\n",
       "      <td>-0.732513</td>\n",
       "      <td>-0.940532</td>\n",
       "      <td>-1.141126</td>\n",
       "      <td>-1.318399</td>\n",
       "      <td>...</td>\n",
       "      <td>-1.498128</td>\n",
       "      <td>-0.963594</td>\n",
       "      <td>-0.311721</td>\n",
       "      <td>-1.082781</td>\n",
       "      <td>-1.705738</td>\n",
       "      <td>-2.097711</td>\n",
       "      <td>-0.420550</td>\n",
       "      <td>-0.983460</td>\n",
       "      <td>-1.540432</td>\n",
       "      <td>-0.563722</td>\n",
       "    </tr>\n",
       "    <tr>\n",
       "      <th>196</th>\n",
       "      <td>-0.544567</td>\n",
       "      <td>-0.344865</td>\n",
       "      <td>0.033174</td>\n",
       "      <td>0.366556</td>\n",
       "      <td>0.583479</td>\n",
       "      <td>0.366686</td>\n",
       "      <td>0.325798</td>\n",
       "      <td>-0.412496</td>\n",
       "      <td>-0.430490</td>\n",
       "      <td>-0.179970</td>\n",
       "      <td>...</td>\n",
       "      <td>-0.250426</td>\n",
       "      <td>0.459584</td>\n",
       "      <td>-0.338515</td>\n",
       "      <td>-0.659174</td>\n",
       "      <td>-0.747237</td>\n",
       "      <td>-1.120024</td>\n",
       "      <td>-0.389533</td>\n",
       "      <td>-0.828307</td>\n",
       "      <td>-0.980258</td>\n",
       "      <td>-1.005727</td>\n",
       "    </tr>\n",
       "    <tr>\n",
       "      <th>197</th>\n",
       "      <td>-1.114126</td>\n",
       "      <td>-1.047489</td>\n",
       "      <td>-0.981307</td>\n",
       "      <td>0.538228</td>\n",
       "      <td>0.327205</td>\n",
       "      <td>0.057783</td>\n",
       "      <td>-1.063272</td>\n",
       "      <td>-0.387243</td>\n",
       "      <td>-0.415092</td>\n",
       "      <td>-0.323302</td>\n",
       "      <td>...</td>\n",
       "      <td>-1.963384</td>\n",
       "      <td>-3.019014</td>\n",
       "      <td>0.446297</td>\n",
       "      <td>-0.065178</td>\n",
       "      <td>-0.207539</td>\n",
       "      <td>0.189219</td>\n",
       "      <td>0.990086</td>\n",
       "      <td>0.749926</td>\n",
       "      <td>0.639689</td>\n",
       "      <td>2.157762</td>\n",
       "    </tr>\n",
       "    <tr>\n",
       "      <th>198</th>\n",
       "      <td>-0.026903</td>\n",
       "      <td>-0.130909</td>\n",
       "      <td>-0.238522</td>\n",
       "      <td>0.921687</td>\n",
       "      <td>0.966985</td>\n",
       "      <td>0.813078</td>\n",
       "      <td>-0.997145</td>\n",
       "      <td>0.347042</td>\n",
       "      <td>0.312118</td>\n",
       "      <td>0.410361</td>\n",
       "      <td>...</td>\n",
       "      <td>0.511891</td>\n",
       "      <td>0.162988</td>\n",
       "      <td>0.558021</td>\n",
       "      <td>0.418361</td>\n",
       "      <td>0.467251</td>\n",
       "      <td>0.736883</td>\n",
       "      <td>0.144875</td>\n",
       "      <td>-0.046631</td>\n",
       "      <td>-0.063275</td>\n",
       "      <td>-0.487398</td>\n",
       "    </tr>\n",
       "    <tr>\n",
       "      <th>199</th>\n",
       "      <td>-0.386259</td>\n",
       "      <td>-0.256826</td>\n",
       "      <td>-0.041588</td>\n",
       "      <td>-0.165666</td>\n",
       "      <td>0.065574</td>\n",
       "      <td>0.242060</td>\n",
       "      <td>-2.392921</td>\n",
       "      <td>0.336305</td>\n",
       "      <td>0.383925</td>\n",
       "      <td>0.504428</td>\n",
       "      <td>...</td>\n",
       "      <td>-0.173004</td>\n",
       "      <td>0.020098</td>\n",
       "      <td>1.602774</td>\n",
       "      <td>0.852011</td>\n",
       "      <td>0.119948</td>\n",
       "      <td>-0.451068</td>\n",
       "      <td>1.845974</td>\n",
       "      <td>0.933474</td>\n",
       "      <td>0.080386</td>\n",
       "      <td>0.088990</td>\n",
       "    </tr>\n",
       "  </tbody>\n",
       "</table>\n",
       "<p>5 rows × 83358 columns</p>\n",
       "</div>"
      ],
      "text/plain": [
       "        0         1         2         3         4         5         6      \\\n",
       "195 -1.511155 -1.652787 -1.653670 -1.309035 -0.887515 -0.704757 -0.732513   \n",
       "196 -0.544567 -0.344865  0.033174  0.366556  0.583479  0.366686  0.325798   \n",
       "197 -1.114126 -1.047489 -0.981307  0.538228  0.327205  0.057783 -1.063272   \n",
       "198 -0.026903 -0.130909 -0.238522  0.921687  0.966985  0.813078 -0.997145   \n",
       "199 -0.386259 -0.256826 -0.041588 -0.165666  0.065574  0.242060 -2.392921   \n",
       "\n",
       "        7         8         9        ...        83348     83349     83350  \\\n",
       "195 -0.940532 -1.141126 -1.318399    ...    -1.498128 -0.963594 -0.311721   \n",
       "196 -0.412496 -0.430490 -0.179970    ...    -0.250426  0.459584 -0.338515   \n",
       "197 -0.387243 -0.415092 -0.323302    ...    -1.963384 -3.019014  0.446297   \n",
       "198  0.347042  0.312118  0.410361    ...     0.511891  0.162988  0.558021   \n",
       "199  0.336305  0.383925  0.504428    ...    -0.173004  0.020098  1.602774   \n",
       "\n",
       "        83351     83352     83353     83354     83355     83356     83357  \n",
       "195 -1.082781 -1.705738 -2.097711 -0.420550 -0.983460 -1.540432 -0.563722  \n",
       "196 -0.659174 -0.747237 -1.120024 -0.389533 -0.828307 -0.980258 -1.005727  \n",
       "197 -0.065178 -0.207539  0.189219  0.990086  0.749926  0.639689  2.157762  \n",
       "198  0.418361  0.467251  0.736883  0.144875 -0.046631 -0.063275 -0.487398  \n",
       "199  0.852011  0.119948 -0.451068  1.845974  0.933474  0.080386  0.088990  \n",
       "\n",
       "[5 rows x 83358 columns]"
      ]
     },
     "execution_count": 25,
     "metadata": {},
     "output_type": "execute_result"
    }
   ],
   "source": [
    "this_df.tail()"
   ]
  },
  {
   "cell_type": "markdown",
   "metadata": {},
   "source": [
    "#### toolbox version"
   ]
  },
  {
   "cell_type": "code",
   "execution_count": 28,
   "metadata": {
    "collapsed": true,
    "tags": [
     "show-cell"
    ]
   },
   "outputs": [],
   "source": [
    "#def make_timecourse_df(pFolder,pName, masker=masker):\n",
    "#\n",
    "#    this_im = os.path.join(pFolder, ''.join(['z_imDiff_', pName, '.nii.gz']))\n",
    "#    this_data = masker.transform(this_im)\n",
    "#    this_df = pd.DataFrame(this_data)\n",
    "#\n",
    "#    return this_df"
   ]
  },
  {
   "cell_type": "markdown",
   "metadata": {},
   "source": [
    "### correlate each individual volume of a patient with the template"
   ]
  },
  {
   "cell_type": "code",
   "execution_count": 26,
   "metadata": {
    "collapsed": true
   },
   "outputs": [],
   "source": [
    "def make_corrs(this_df, template_df):\n",
    "    \"\"\"correlate each volume of target patient with template\"\"\"\n",
    "\n",
    "    d = {}\n",
    "\n",
    "    for vol in this_df.index:\n",
    "\n",
    "        this_vol = this_df.loc[vol, :]\n",
    "        d[vol] = {}\n",
    "        all_corrs = np.corrcoef(this_vol, template_df)\n",
    "        my_corrs = all_corrs[0, 1:]\n",
    "        for n, i in enumerate(template_df.index):\n",
    "            d[vol][i] = my_corrs[n]\n",
    "\n",
    "    df = pd.DataFrame(d)\n",
    "\n",
    "    return df"
   ]
  },
  {
   "cell_type": "code",
   "execution_count": 27,
   "metadata": {
    "collapsed": true,
    "tags": [
     "hide-cell"
    ]
   },
   "outputs": [],
   "source": [
    "from datetime import datetime"
   ]
  },
  {
   "cell_type": "code",
   "execution_count": 28,
   "metadata": {
    "tags": [
     "hide-cell"
    ]
   },
   "outputs": [
    {
     "name": "stdout",
     "output_type": "stream",
     "text": [
      "2019-04-05 17:47:01.476950\n",
      "2019-04-05 17:47:01.730874\n"
     ]
    }
   ],
   "source": [
    "print('%s'%datetime.now())\n",
    "corr_df = make_corrs(this_df, template_df)\n",
    "print('%s'%datetime.now())"
   ]
  },
  {
   "cell_type": "code",
   "execution_count": 29,
   "metadata": {
    "tags": [
     "hide-cell"
    ]
   },
   "outputs": [
    {
     "data": {
      "text/html": [
       "<div>\n",
       "<table border=\"1\" class=\"dataframe\">\n",
       "  <thead>\n",
       "    <tr style=\"text-align: right;\">\n",
       "      <th></th>\n",
       "      <th>0</th>\n",
       "      <th>1</th>\n",
       "      <th>2</th>\n",
       "      <th>3</th>\n",
       "      <th>4</th>\n",
       "      <th>5</th>\n",
       "      <th>6</th>\n",
       "      <th>7</th>\n",
       "      <th>8</th>\n",
       "      <th>9</th>\n",
       "      <th>...</th>\n",
       "      <th>190</th>\n",
       "      <th>191</th>\n",
       "      <th>192</th>\n",
       "      <th>193</th>\n",
       "      <th>194</th>\n",
       "      <th>195</th>\n",
       "      <th>196</th>\n",
       "      <th>197</th>\n",
       "      <th>198</th>\n",
       "      <th>199</th>\n",
       "    </tr>\n",
       "  </thead>\n",
       "  <tbody>\n",
       "    <tr>\n",
       "      <th>template</th>\n",
       "      <td>0.098187</td>\n",
       "      <td>0.035327</td>\n",
       "      <td>0.010837</td>\n",
       "      <td>0.012339</td>\n",
       "      <td>0.0389</td>\n",
       "      <td>0.019638</td>\n",
       "      <td>0.050094</td>\n",
       "      <td>0.026805</td>\n",
       "      <td>-0.060934</td>\n",
       "      <td>-0.005521</td>\n",
       "      <td>...</td>\n",
       "      <td>-0.064179</td>\n",
       "      <td>-0.018042</td>\n",
       "      <td>-0.00483</td>\n",
       "      <td>-0.039661</td>\n",
       "      <td>-0.08341</td>\n",
       "      <td>-0.058365</td>\n",
       "      <td>-0.00934</td>\n",
       "      <td>-0.003954</td>\n",
       "      <td>0.028095</td>\n",
       "      <td>0.012717</td>\n",
       "    </tr>\n",
       "  </tbody>\n",
       "</table>\n",
       "<p>1 rows × 200 columns</p>\n",
       "</div>"
      ],
      "text/plain": [
       "               0         1         2         3       4         5         6    \\\n",
       "template  0.098187  0.035327  0.010837  0.012339  0.0389  0.019638  0.050094   \n",
       "\n",
       "               7         8         9      ...          190       191      192  \\\n",
       "template  0.026805 -0.060934 -0.005521    ...    -0.064179 -0.018042 -0.00483   \n",
       "\n",
       "               193      194       195      196       197       198       199  \n",
       "template -0.039661 -0.08341 -0.058365 -0.00934 -0.003954  0.028095  0.012717  \n",
       "\n",
       "[1 rows x 200 columns]"
      ]
     },
     "execution_count": 29,
     "metadata": {},
     "output_type": "execute_result"
    }
   ],
   "source": [
    "corr_df"
   ]
  },
  {
   "cell_type": "code",
   "execution_count": 3,
   "metadata": {
    "tags": [
     "hide-cell"
    ]
   },
   "outputs": [],
   "source": [
    "with open('../models/colors.p', 'rb') as f:\n",
    "    color_dict = pickle.load(f)"
   ]
  },
  {
   "cell_type": "code",
   "execution_count": 4,
   "metadata": {
    "tags": [
     "hide-cell"
    ]
   },
   "outputs": [
    {
     "data": {
      "text/plain": [
       "{'left': (0.8313725490196079, 0.16470588235294117, 0.12549019607843137),\n",
       " 'right': (0.054901960784313725, 0.38823529411764707, 0.5568627450980392),\n",
       " 'bilateral': (0.9803921568627451, 0.7607843137254902, 0.16862745098039217)}"
      ]
     },
     "execution_count": 4,
     "metadata": {},
     "output_type": "execute_result"
    }
   ],
   "source": [
    "#### selection of main colors  \n",
    "my_cols = {}\n",
    "for i, j in zip(['red', 'blue', 'yellow'], ['left', 'right', 'bilateral']):\n",
    "    my_cols[j] = color_dict[i]\n",
    "\n",
    "my_cols"
   ]
  },
  {
   "cell_type": "markdown",
   "metadata": {},
   "source": [
    "### make individual plot"
   ]
  },
  {
   "cell_type": "code",
   "execution_count": 29,
   "metadata": {
    "collapsed": true,
    "tags": [
     "hide-cell"
    ]
   },
   "outputs": [],
   "source": [
    "with open('../models/conds.p', 'rb') as f:\n",
    "    conds = pickle.load(f)"
   ]
  },
  {
   "cell_type": "code",
   "execution_count": 30,
   "metadata": {
    "collapsed": true,
    "tags": [
     "hide-cell"
    ]
   },
   "outputs": [],
   "source": [
    "def make_plot(df, ax, color_dict=color_dict, conds=conds):\n",
    "    \"\"\"show correlations of single patient's volumes with groups\"\"\"\n",
    "\n",
    "    # find the volumes when activity starts (CAVE: make sure that blocks\n",
    "    # are 10 volumes long, because this is hard-coded here)\n",
    "    act_blocks = np.where(np.array(conds) == 1)[-1][::10]\n",
    "\n",
    "    # draw each block with height -1 to +1 (needs to be trimmed to actual\n",
    "    # data range later, otherwise too large)\n",
    "    for i in act_blocks:\n",
    "        ax.fill_between([i, i + 10], [-1, -1], [1, 1],\n",
    "                        color=color_dict['trans'],\n",
    "                        alpha=0.7)\n",
    "\n",
    "    # the correlations with each group are in rows, we loop through each group/row\n",
    "    for i in df.index:\n",
    "        ax.plot(\n",
    "            df.loc[i, :], label=i, alpha=0.8, linewidth=4, color=color_dict['blue'])\n",
    "\n",
    "    # dotted line indicates zero/no correlation\n",
    "    ax.axhline(0, linestyle=':', color=color_dict['black'], linewidth=3)\n",
    "\n",
    "    # define range on y-axis by rounded-up max value\n",
    "    my_max = (df.max().max() + 0.05).round(1)\n",
    "    ax.set_ylim(-my_max, my_max)\n",
    "    ax.set_yticks(np.linspace(-my_max, my_max, 5))\n",
    "\n",
    "    ax.set_xlim(0, 200)\n",
    "    ax.set_xticks(np.arange(0, 201, 20))\n",
    "\n",
    "    #ax.legend(loc='best', fontsize=20)\n",
    "\n",
    "    ax.set_xlabel('Volume/TR')\n",
    "    ax.set_ylabel('Pearson Correlation')\n",
    "\n",
    "    sns.despine(trim=True, offset=10)\n",
    "\n",
    "    return ax"
   ]
  },
  {
   "cell_type": "markdown",
   "metadata": {},
   "source": [
    "### do everything for one patient"
   ]
  },
  {
   "cell_type": "code",
   "execution_count": 35,
   "metadata": {
    "collapsed": true,
    "tags": [
     "hide-cell"
    ]
   },
   "outputs": [],
   "source": [
    "def make_p(p_name):\n",
    "    \"\"\"everything for one patient\"\"\"\n",
    "\n",
    "    this_df = make_timecourse_df(p_name, 'z-scored-diff')\n",
    "    corr_df = make_corrs(this_df, template_df)\n",
    "\n",
    "    return corr_df"
   ]
  },
  {
   "cell_type": "code",
   "execution_count": 36,
   "metadata": {
    "tags": [
     "hide-cell"
    ]
   },
   "outputs": [
    {
     "name": "stdout",
     "output_type": "stream",
     "text": [
      "2019-04-05 17:48:27.835128\n",
      "2019-04-05 17:48:40.347240\n"
     ]
    }
   ],
   "source": [
    "print('%s'%datetime.now())\n",
    "p_df = make_p(p_name)\n",
    "print('%s'%datetime.now())"
   ]
  },
  {
   "cell_type": "code",
   "execution_count": 37,
   "metadata": {
    "tags": [
     "hide-cell"
    ]
   },
   "outputs": [
    {
     "data": {
      "text/html": [
       "<div>\n",
       "<table border=\"1\" class=\"dataframe\">\n",
       "  <thead>\n",
       "    <tr style=\"text-align: right;\">\n",
       "      <th></th>\n",
       "      <th>0</th>\n",
       "      <th>1</th>\n",
       "      <th>2</th>\n",
       "      <th>3</th>\n",
       "      <th>4</th>\n",
       "      <th>5</th>\n",
       "      <th>6</th>\n",
       "      <th>7</th>\n",
       "      <th>8</th>\n",
       "      <th>9</th>\n",
       "      <th>...</th>\n",
       "      <th>190</th>\n",
       "      <th>191</th>\n",
       "      <th>192</th>\n",
       "      <th>193</th>\n",
       "      <th>194</th>\n",
       "      <th>195</th>\n",
       "      <th>196</th>\n",
       "      <th>197</th>\n",
       "      <th>198</th>\n",
       "      <th>199</th>\n",
       "    </tr>\n",
       "  </thead>\n",
       "  <tbody>\n",
       "    <tr>\n",
       "      <th>template</th>\n",
       "      <td>0.098187</td>\n",
       "      <td>0.035327</td>\n",
       "      <td>0.010837</td>\n",
       "      <td>0.012339</td>\n",
       "      <td>0.0389</td>\n",
       "      <td>0.019638</td>\n",
       "      <td>0.050094</td>\n",
       "      <td>0.026805</td>\n",
       "      <td>-0.060934</td>\n",
       "      <td>-0.005521</td>\n",
       "      <td>...</td>\n",
       "      <td>-0.064179</td>\n",
       "      <td>-0.018042</td>\n",
       "      <td>-0.00483</td>\n",
       "      <td>-0.039661</td>\n",
       "      <td>-0.08341</td>\n",
       "      <td>-0.058365</td>\n",
       "      <td>-0.00934</td>\n",
       "      <td>-0.003954</td>\n",
       "      <td>0.028095</td>\n",
       "      <td>0.012717</td>\n",
       "    </tr>\n",
       "  </tbody>\n",
       "</table>\n",
       "<p>1 rows × 200 columns</p>\n",
       "</div>"
      ],
      "text/plain": [
       "               0         1         2         3       4         5         6    \\\n",
       "template  0.098187  0.035327  0.010837  0.012339  0.0389  0.019638  0.050094   \n",
       "\n",
       "               7         8         9      ...          190       191      192  \\\n",
       "template  0.026805 -0.060934 -0.005521    ...    -0.064179 -0.018042 -0.00483   \n",
       "\n",
       "               193      194       195      196       197       198       199  \n",
       "template -0.039661 -0.08341 -0.058365 -0.00934 -0.003954  0.028095  0.012717  \n",
       "\n",
       "[1 rows x 200 columns]"
      ]
     },
     "execution_count": 37,
     "metadata": {},
     "output_type": "execute_result"
    }
   ],
   "source": [
    "p_df"
   ]
  },
  {
   "cell_type": "markdown",
   "metadata": {},
   "source": [
    "#### toolbox version"
   ]
  },
  {
   "cell_type": "code",
   "execution_count": null,
   "metadata": {
    "collapsed": true,
    "tags": [
     "show-cell"
    ]
   },
   "outputs": [],
   "source": [
    "#def make_p(pFolder,pName,template_df=template_df,masker=masker):\n",
    "#\n",
    "#    this_df = make_timecourse_df(pFolder, pName, masker=masker)\n",
    "#    corr_df = make_corrs(this_df, template_df)\n",
    "#    out_name = os.path.join(pFolder, ''.join([ pName, '_corr_df.csv']))\n",
    "#    corr_df.to_csv(out_name)\n",
    "#    \n",
    "#    return out_name"
   ]
  },
  {
   "cell_type": "markdown",
   "metadata": {},
   "source": [
    "### show individual results"
   ]
  },
  {
   "cell_type": "code",
   "execution_count": 34,
   "metadata": {
    "tags": [
     "hide-cell"
    ]
   },
   "outputs": [
    {
     "data": {
      "image/png": "[encoded data removed]",
      "text/plain": [
       "<matplotlib.figure.Figure at 0x7f464d8d7410>"
      ]
     },
     "metadata": {},
     "output_type": "display_data"
    }
   ],
   "source": [
    "fig,ax = plt.subplots(1,1,figsize=(16, 6))\n",
    "ax = make_plot(p_df, ax=ax)\n",
    "plt.tight_layout()\n",
    "plt.show()"
   ]
  },
  {
   "cell_type": "markdown",
   "metadata": {},
   "source": [
    "### do this for all patients"
   ]
  },
  {
   "cell_type": "code",
   "execution_count": null,
   "metadata": {
    "scrolled": true,
    "tags": [
     "hide-cell"
    ]
   },
   "outputs": [],
   "source": [
    "#for p_name in tqdm(data_df.index):\n",
    "for p_name in data_df.index:\n",
    "    print('%s %s'%(p_name,datetime.now()))\n",
    "    \n",
    "    p_df = make_p(p_name)\n",
    "    out_name = '../data/interim/csv/%s_corr_df.csv' % p_name[-1]\n",
    "    p_df.to_csv(out_name)\n",
    "    data_df.loc[p_name,'corr_df'] = out_name\n",
    "\n",
    "data_df.to_csv('../data/interim/csv/info_epi_zscored_zdiff_summarymaps_2dpredclean_corr_df.csv')"
   ]
  },
  {
   "cell_type": "markdown",
   "metadata": {},
   "source": [
    "### summary\n",
    "\n",
    "We now have a table for each patient, where the correlations of each of the 200 volumes with the template are stored.\n",
    "\n",
    "\n",
    "**************\n",
    "\n",
    "< [Previous](08-mw-methods-plot-correlations.ipynb) | [Contents](00-mw-overview-notebook.ipynb) | [Next >](10-mw-train-test-classifier.ipynb)"
   ]
  }
 ],
 "metadata": {
  "kernelspec": {
   "display_name": "Python 3",
   "language": "python",
   "name": "python3"
  },
  "language_info": {
   "codemirror_mode": {
    "name": "ipython",
    "version": 3
   },
   "file_extension": ".py",
   "mimetype": "text/x-python",
   "name": "python",
   "nbconvert_exporter": "python",
   "pygments_lexer": "ipython3",
   "version": "3.6.7"
  },
  "varInspector": {
   "cols": {
    "lenName": 16,
    "lenType": 16,
    "lenVar": 40
   },
   "kernels_config": {
    "python": {
     "delete_cmd_postfix": "",
     "delete_cmd_prefix": "del ",
     "library": "var_list.py",
     "varRefreshCmd": "print(var_dic_list())"
    },
    "r": {
     "delete_cmd_postfix": ") ",
     "delete_cmd_prefix": "rm(",
     "library": "var_list.r",
     "varRefreshCmd": "cat(var_dic_list()) "
    }
   },
   "types_to_exclude": [
    "module",
    "function",
    "builtin_function_or_method",
    "instance",
    "_Feature"
   ],
   "window_display": false
  }
 },
 "nbformat": 4,
 "nbformat_minor": 2
}
