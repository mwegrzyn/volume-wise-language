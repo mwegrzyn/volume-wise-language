{
 "cells": [
  {
   "cell_type": "markdown",
   "metadata": {},
   "source": [
    "# Leave-One-Patient-Out classification of individual volumes\n",
    "\n",
    "Here, we train a classifier for each patient, based on the data of all the other patients except the current one (Leave One Out Cross-Validation). To this end, we treat each volume as an independent observation, so we have a very large sample of volumes which are used for training; and later, we do not classify the patient as a whole, but the classifier makes a decision for each of the held-out patient's 200 volumes. Therefore, at this stage, we have not made a decision on the patient level, but only at the volume-as-unit-of-observation level."
   ]
  },
  {
   "cell_type": "markdown",
   "metadata": {},
   "source": [
    "### import modules"
   ]
  },
  {
   "cell_type": "code",
   "execution_count": 1,
   "metadata": {},
   "outputs": [],
   "source": [
    "import os\n",
    "import pickle\n",
    "\n",
    "import numpy as np\n",
    "import pandas as pd\n",
    "\n",
    "from sklearn import svm, preprocessing, metrics\n",
    "from PIL import Image\n",
    "\n",
    "import matplotlib.pyplot as plt\n",
    "import seaborn as sns\n",
    "\n",
    "sns.set_style('ticks')\n",
    "sns.set_context('poster')"
   ]
  },
  {
   "cell_type": "code",
   "execution_count": 2,
   "metadata": {},
   "outputs": [],
   "source": [
    "sns.set_context('poster')"
   ]
  },
  {
   "cell_type": "code",
   "execution_count": 3,
   "metadata": {},
   "outputs": [
    {
     "data": {
      "text/plain": [
       "'/data/martin/volume-wise-language'"
      ]
     },
     "execution_count": 3,
     "metadata": {},
     "output_type": "execute_result"
    }
   ],
   "source": [
    "# after converstion to .py, we can use __file__ to get the module folder\n",
    "try:\n",
    "    thisDir = os.path.realpath(__file__)\n",
    "# in notebook form, we take the current working directory (we need to be in 'notebooks/' for this!)\n",
    "except:\n",
    "    thisDir = '.'\n",
    "# convert relative path into absolute path, so this will work with notebooks and py modules\n",
    "supDir = os.path.abspath(os.path.join(os.path.dirname(thisDir), '..'))\n",
    "\n",
    "supDir"
   ]
  },
  {
   "cell_type": "markdown",
   "metadata": {},
   "source": [
    "### get meta df"
   ]
  },
  {
   "cell_type": "markdown",
   "metadata": {},
   "source": [
    "We need this e.g. to get information about conclusiveness"
   ]
  },
  {
   "cell_type": "code",
   "execution_count": 4,
   "metadata": {
    "tags": [
     "hide-cell"
    ]
   },
   "outputs": [],
   "source": [
    "data_df = pd.read_csv(\n",
    "    '../data/interim/csv/info_epi_zscored_zdiff_summarymaps_2dpredclean_corr_df.csv',\n",
    "    index_col=[0, 1],\n",
    "    header=0)"
   ]
  },
  {
   "cell_type": "code",
   "execution_count": null,
   "metadata": {
    "scrolled": true,
    "tags": [
     "hide-cell"
    ]
   },
   "outputs": [],
   "source": [
    "data_df.tail()"
   ]
  },
  {
   "cell_type": "markdown",
   "metadata": {},
   "source": [
    "#### conclusiveness filters"
   ]
  },
  {
   "cell_type": "code",
   "execution_count": 6,
   "metadata": {
    "tags": [
     "hide-cell"
    ]
   },
   "outputs": [],
   "source": [
    "is_conclusive = data_df.loc[:, 'pred'] != 'inconclusive'"
   ]
  },
  {
   "cell_type": "code",
   "execution_count": 7,
   "metadata": {
    "tags": [
     "hide-cell"
    ]
   },
   "outputs": [
    {
     "data": {
      "text/plain": [
       "63"
      ]
     },
     "execution_count": 7,
     "metadata": {},
     "output_type": "execute_result"
    }
   ],
   "source": [
    "is_conclusive.sum()"
   ]
  },
  {
   "cell_type": "markdown",
   "metadata": {},
   "source": [
    "### get data"
   ]
  },
  {
   "cell_type": "code",
   "execution_count": 8,
   "metadata": {
    "tags": [
     "hide-cell"
    ]
   },
   "outputs": [],
   "source": [
    "def make_group_df(data_df,metric='corr_df'):\n",
    "    '''load correlation data of all patients'''\n",
    "    \n",
    "    group_df = pd.DataFrame()\n",
    "    \n",
    "    for p in data_df.index:\n",
    "        # get data\n",
    "        filename = data_df.loc[p, metric]\n",
    "        this_df = pd.read_csv(filename, index_col=[0], header=0)\n",
    "        # add patient infos to index\n",
    "        this_df.index = [[p[0]], [p[1]]]\n",
    "        \n",
    "        group_df = pd.concat([group_df, this_df])\n",
    "\n",
    "    # reorder the colums and make sure volumes are integer values\n",
    "    group_df.columns = group_df.columns.astype(int)\n",
    "    \n",
    "    # sort across rows, then across columns, to make sure that volumes\n",
    "    # are in the right order\n",
    "    group_df = group_df.sort_index(axis=0)\n",
    "    group_df = group_df.sort_index(axis=1)\n",
    "\n",
    "    assert all(group_df.columns == range(200)), 'wrong order of volumes'\n",
    "            \n",
    "    return group_df"
   ]
  },
  {
   "cell_type": "code",
   "execution_count": 9,
   "metadata": {
    "tags": [
     "hide-cell"
    ]
   },
   "outputs": [],
   "source": [
    "group_df = make_group_df(data_df)"
   ]
  },
  {
   "cell_type": "code",
   "execution_count": null,
   "metadata": {
    "scrolled": true,
    "tags": [
     "hide-cell"
    ]
   },
   "outputs": [],
   "source": [
    "group_df.tail()"
   ]
  },
  {
   "cell_type": "markdown",
   "metadata": {},
   "source": [
    "#### filter data"
   ]
  },
  {
   "cell_type": "code",
   "execution_count": 11,
   "metadata": {
    "tags": [
     "hide-cell"
    ]
   },
   "outputs": [],
   "source": [
    "# only conclusive cases\n",
    "conclusive_df = group_df[is_conclusive]\n",
    "# only inconclusive cases\n",
    "inconclusive_df = group_df[is_conclusive == False]\n",
    "# all cases unfiltered\n",
    "withinconclusive_df = group_df.copy()"
   ]
  },
  {
   "cell_type": "code",
   "execution_count": 12,
   "metadata": {
    "tags": [
     "hide-cell"
    ]
   },
   "outputs": [
    {
     "name": "stdout",
     "output_type": "stream",
     "text": [
      "(63, 200) (33, 200) (96, 200)\n"
     ]
    }
   ],
   "source": [
    "print(conclusive_df.shape, inconclusive_df.shape, withinconclusive_df.shape)"
   ]
  },
  {
   "cell_type": "markdown",
   "metadata": {},
   "source": [
    "### get design"
   ]
  },
  {
   "cell_type": "code",
   "execution_count": 13,
   "metadata": {},
   "outputs": [],
   "source": [
    "conds_file = os.path.join(supDir,'models','conds.p')\n",
    "with open(conds_file, 'rb') as f:\n",
    "    conds = pickle.load(f)"
   ]
  },
  {
   "cell_type": "code",
   "execution_count": 14,
   "metadata": {
    "tags": [
     "hide-cell"
    ]
   },
   "outputs": [
    {
     "name": "stdout",
     "output_type": "stream",
     "text": [
      "[-1, -1, -1, -1, -1, -1, -1, -1, -1, -1, -1, -1, 1, 1, 1, 1, 1, 1, 1, 1, 1, 1, -1, -1, -1, -1, -1, -1, -1, -1, -1, -1, 1, 1, 1, 1, 1, 1, 1, 1, 1, 1, -1, -1, -1, -1, -1, -1, -1, -1, -1, -1, 1, 1, 1, 1, 1, 1, 1, 1, 1, 1, -1, -1, -1, -1, -1, -1, -1, -1, -1, -1, 1, 1, 1, 1, 1, 1, 1, 1, 1, 1, -1, -1, -1, -1, -1, -1, -1, -1, -1, -1, 1, 1, 1, 1, 1, 1, 1, 1, 1, 1, -1, -1, -1, -1, -1, -1, -1, -1, -1, -1, 1, 1, 1, 1, 1, 1, 1, 1, 1, 1, -1, -1, -1, -1, -1, -1, -1, -1, -1, -1, 1, 1, 1, 1, 1, 1, 1, 1, 1, 1, -1, -1, -1, -1, -1, -1, -1, -1, -1, -1, 1, 1, 1, 1, 1, 1, 1, 1, 1, 1, -1, -1, -1, -1, -1, -1, -1, -1, -1, -1, 1, 1, 1, 1, 1, 1, 1, 1, 1, 1, -1, -1, -1, -1, -1, -1, -1, -1, -1, -1, 1, 1, 1, 1, 1, 1, 1, 1]\n"
     ]
    }
   ],
   "source": [
    "print(conds)"
   ]
  },
  {
   "cell_type": "markdown",
   "metadata": {},
   "source": [
    "### get colors"
   ]
  },
  {
   "cell_type": "code",
   "execution_count": 15,
   "metadata": {
    "tags": [
     "hide-cell"
    ]
   },
   "outputs": [],
   "source": [
    "with open('../models/colors.p', 'rb') as f:\n",
    "    color_dict = pickle.load(f)\n",
    "    \n",
    "my_cols = {}\n",
    "for i, j in zip(['red', 'blue', 'yellow'], ['left', 'right', 'bilateral']):\n",
    "    my_cols[j] = color_dict[i]"
   ]
  },
  {
   "cell_type": "markdown",
   "metadata": {},
   "source": [
    "### invert the resting timepoints"
   ]
  },
  {
   "cell_type": "code",
   "execution_count": 16,
   "metadata": {
    "tags": [
     "hide-cell"
    ]
   },
   "outputs": [],
   "source": [
    "inv_df = conclusive_df*conds"
   ]
  },
  {
   "cell_type": "code",
   "execution_count": null,
   "metadata": {
    "scrolled": true,
    "tags": [
     "hide-cell"
    ]
   },
   "outputs": [],
   "source": [
    "inv_df.tail()"
   ]
  },
  {
   "cell_type": "markdown",
   "metadata": {},
   "source": [
    "### train the classifier"
   ]
  },
  {
   "cell_type": "code",
   "execution_count": null,
   "metadata": {
    "tags": [
     "hide-cell"
    ]
   },
   "outputs": [],
   "source": [
    "stack_df = pd.DataFrame(inv_df.stack())\n",
    "stack_df.tail()"
   ]
  },
  {
   "cell_type": "code",
   "execution_count": 19,
   "metadata": {
    "tags": [
     "hide-cell"
    ]
   },
   "outputs": [
    {
     "data": {
      "text/plain": [
       "(12600, 1)"
      ]
     },
     "execution_count": 19,
     "metadata": {},
     "output_type": "execute_result"
    }
   ],
   "source": [
    "stack_df.shape"
   ]
  },
  {
   "cell_type": "code",
   "execution_count": 20,
   "metadata": {
    "tags": [
     "hide-cell"
    ]
   },
   "outputs": [],
   "source": [
    "my_groups = ['left','bilateral','right']"
   ]
  },
  {
   "cell_type": "code",
   "execution_count": 21,
   "metadata": {
    "tags": [
     "hide-cell"
    ]
   },
   "outputs": [
    {
     "name": "stderr",
     "output_type": "stream",
     "text": [
      "/data/condaEnvs/volumeAnalysis/lib/python3.6/site-packages/scipy/stats/stats.py:1713: FutureWarning: Using a non-tuple sequence for multidimensional indexing is deprecated; use `arr[tuple(seq)]` instead of `arr[seq]`. In the future this will be interpreted as an array index, `arr[np.array(seq)]`, which will result either in an error or a different result.\n",
      "  return np.add.reduce(sorted[indexer] * weights, axis=axis) / sumval\n"
     ]
    },
    {
     "data": {
      "image/png": "[encoded data removed]",
      "text/plain": [
       "<Figure size 360x360 with 1 Axes>"
      ]
     },
     "metadata": {
      "needs_background": "light"
     },
     "output_type": "display_data"
    }
   ],
   "source": [
    "dynamite_df = stack_df.copy()\n",
    "dynamite_df.columns = ['correlation']\n",
    "dynamite_df['group'] = dynamite_df.index.get_level_values(0)\n",
    "sns.catplot(data=dynamite_df,y='group',x='correlation',kind='bar',orient='h',palette=my_cols,order=my_groups,aspect=1)\n",
    "plt.axvline(0,color='k',linewidth=3)\n",
    "plt.xlim(0.05,-0.05,-0.01)\n",
    "sns.despine(left=True,trim=True)\n",
    "plt.ylabel('')\n",
    "plt.savefig('../reports/figures/10-dynamite-plot.png',dpi=300,bbox_inches='tight')\n",
    "plt.show()"
   ]
  },
  {
   "cell_type": "code",
   "execution_count": 22,
   "metadata": {
    "tags": [
     "hide-cell"
    ]
   },
   "outputs": [],
   "source": [
    "from scipy import stats"
   ]
  },
  {
   "cell_type": "code",
   "execution_count": 23,
   "metadata": {
    "tags": [
     "hide-cell"
    ]
   },
   "outputs": [
    {
     "name": "stdout",
     "output_type": "stream",
     "text": [
      "\n",
      "t=-17.10,p=0.0000000000000000000000000000000000000000000000000000000000000001\n",
      "\n",
      "t=12.98,p=0.00000000000000000000000000000000000006\n",
      "\n",
      "t=34.56,p=0.00000000000000000000000000000000000000000000000000000000000000000000000000000000000000000000000000000000000000000000000000000000000000000000000000000000000000000000000000000000000000000000000000000000000000000000000000000000000000000000000000000004\n"
     ]
    }
   ],
   "source": [
    "t,p = stats.ttest_ind(dynamite_df.loc['bilateral','correlation'],dynamite_df.loc['left','correlation'])\n",
    "print('\\nt=%.2f,p=%.64f'%(t,p))\n",
    "t,p = stats.ttest_ind(dynamite_df.loc['bilateral','correlation'],dynamite_df.loc['right','correlation'])\n",
    "print('\\nt=%.2f,p=%.38f'%(t,p))\n",
    "t,p = stats.ttest_ind(dynamite_df.loc['left','correlation'],dynamite_df.loc['right','correlation'])\n",
    "print('\\nt=%.2f,p=%.248f'%(t,p))"
   ]
  },
  {
   "cell_type": "markdown",
   "metadata": {},
   "source": [
    "###  as histogram"
   ]
  },
  {
   "cell_type": "code",
   "execution_count": 24,
   "metadata": {
    "tags": [
     "hide-cell"
    ]
   },
   "outputs": [
    {
     "data": {
      "image/png": "[encoded data removed]",
      "text/plain": [
       "<Figure size 576x360 with 1 Axes>"
      ]
     },
     "metadata": {
      "needs_background": "light"
     },
     "output_type": "display_data"
    }
   ],
   "source": [
    "fig,ax = plt.subplots(1,1,figsize=(8,5))\n",
    "for group in my_groups:\n",
    "    sns.distplot(stack_df.loc[group,:],color=my_cols[group],label=group,ax=ax)\n",
    "plt.legend()\n",
    "plt.xlim(0.4,-0.4,-0.2)\n",
    "sns.despine()\n",
    "plt.show()"
   ]
  },
  {
   "cell_type": "markdown",
   "metadata": {},
   "source": [
    "### set up the classifier"
   ]
  },
  {
   "cell_type": "code",
   "execution_count": 25,
   "metadata": {
    "tags": [
     "hide-cell"
    ]
   },
   "outputs": [],
   "source": [
    "clf = svm.SVC(kernel='linear',C=1.0,probability=False,class_weight='balanced')"
   ]
  },
  {
   "cell_type": "code",
   "execution_count": 26,
   "metadata": {},
   "outputs": [],
   "source": [
    "def scale_features(X):\n",
    "    '''z-transform the features before applying a SVC.\n",
    "    The scaler is also stored so it can later be re-used on test data'''\n",
    "    my_scaler = preprocessing.StandardScaler()\n",
    "    my_scaler.fit(X)\n",
    "    X_scaled = my_scaler.transform(X)\n",
    "    return X_scaled,my_scaler"
   ]
  },
  {
   "cell_type": "code",
   "execution_count": 27,
   "metadata": {},
   "outputs": [],
   "source": [
    "def encode_labels(y):\n",
    "    '''get from number labels to strings and back'''\n",
    "    my_labeler = preprocessing.LabelEncoder()\n",
    "    my_labeler.fit(np.unique(y))\n",
    "    y_labels = my_labeler.transform(y)\n",
    "    return y_labels, my_labeler"
   ]
  },
  {
   "cell_type": "code",
   "execution_count": 28,
   "metadata": {},
   "outputs": [],
   "source": [
    "def train_classifier(df):\n",
    "    '''get features and labels\n",
    "    * scale the features\n",
    "    * transform the labels\n",
    "    * apply the classifier\n",
    "    '''\n",
    "\n",
    "    X = df.values\n",
    "    y = df.index.get_level_values(0)\n",
    "\n",
    "    X_scaled,my_scaler = scale_features(X)\n",
    "    y_labels, my_labeler = encode_labels(y)\n",
    "\n",
    "    clf.fit(X_scaled,y_labels)\n",
    "    \n",
    "    return clf,my_scaler,my_labeler"
   ]
  },
  {
   "cell_type": "code",
   "execution_count": 29,
   "metadata": {
    "tags": [
     "hide-cell"
    ]
   },
   "outputs": [],
   "source": [
    "example_clf, example_scaler, example_labeler = train_classifier(stack_df)"
   ]
  },
  {
   "cell_type": "code",
   "execution_count": 30,
   "metadata": {
    "tags": [
     "hide-cell"
    ]
   },
   "outputs": [
    {
     "data": {
      "text/plain": [
       "SVC(C=1.0, cache_size=200, class_weight='balanced', coef0=0.0,\n",
       "  decision_function_shape='ovr', degree=3, gamma='auto', kernel='linear',\n",
       "  max_iter=-1, probability=False, random_state=None, shrinking=True,\n",
       "  tol=0.001, verbose=False)"
      ]
     },
     "execution_count": 30,
     "metadata": {},
     "output_type": "execute_result"
    }
   ],
   "source": [
    "example_clf"
   ]
  },
  {
   "cell_type": "code",
   "execution_count": 31,
   "metadata": {
    "tags": [
     "hide-cell"
    ]
   },
   "outputs": [
    {
     "data": {
      "text/plain": [
       "StandardScaler(copy=True, with_mean=True, with_std=True)"
      ]
     },
     "execution_count": 31,
     "metadata": {},
     "output_type": "execute_result"
    }
   ],
   "source": [
    "example_scaler"
   ]
  },
  {
   "cell_type": "code",
   "execution_count": 32,
   "metadata": {
    "tags": [
     "hide-cell"
    ]
   },
   "outputs": [
    {
     "data": {
      "text/plain": [
       "array(['bilateral', 'left', 'right'], dtype=object)"
      ]
     },
     "execution_count": 32,
     "metadata": {},
     "output_type": "execute_result"
    }
   ],
   "source": [
    "example_labeler.classes_"
   ]
  },
  {
   "cell_type": "code",
   "execution_count": 33,
   "metadata": {
    "tags": [
     "hide-cell"
    ]
   },
   "outputs": [],
   "source": [
    "def get_boundaries(clf,my_scaler):\n",
    "    '''find the point where the classifier changes its prediction;\n",
    "    this is an ugly brute-force approach and probably there is a much\n",
    "    easier way to do this\n",
    "    '''\n",
    "    \n",
    "    d = {}\n",
    "    for i in np.linspace(-1,1,10000):\n",
    "        this_val = my_scaler.transform(np.array([i]).reshape(1,-1))\n",
    "        this_predict = clf.predict(this_val)\n",
    "        d[i] = this_predict[-1]\n",
    "    df = pd.DataFrame(d,index=['pred']).T\n",
    "    return df[(df-df.shift(1))!=0].dropna().index[1:]"
   ]
  },
  {
   "cell_type": "code",
   "execution_count": 34,
   "metadata": {
    "tags": [
     "hide-cell"
    ]
   },
   "outputs": [],
   "source": [
    "from datetime import datetime"
   ]
  },
  {
   "cell_type": "markdown",
   "metadata": {},
   "source": [
    "### get class boundaries of all folds"
   ]
  },
  {
   "cell_type": "code",
   "execution_count": 35,
   "metadata": {
    "tags": [
     "hide-cell"
    ]
   },
   "outputs": [],
   "source": [
    "import tqdm"
   ]
  },
  {
   "cell_type": "code",
   "execution_count": 36,
   "metadata": {
    "tags": [
     "hide-cell"
    ]
   },
   "outputs": [],
   "source": [
    "def get_all_boundaries(stack_df):\n",
    "    '''for each fold, get the boundaries, by\n",
    "    training on everybody but the held-out patient\n",
    "    and storing the boundaries'''\n",
    "    \n",
    "    all_boundaries = {}\n",
    "\n",
    "    conclusive_pats = np.unique(stack_df.index.get_level_values(1))\n",
    "    \n",
    "    for p in tqdm.tqdm(conclusive_pats):\n",
    "\n",
    "        # in the current fold, we drop one patient\n",
    "        df = stack_df.drop(p,level=1)\n",
    "\n",
    "        # train on this fold's data\n",
    "        clf,my_scaler,my_labeler = train_classifier(df)\n",
    "        \n",
    "        # get the classifier boundaries\n",
    "        boundaries = get_boundaries(clf,my_scaler)\n",
    "        all_boundaries[p] = boundaries\n",
    "        \n",
    "    return all_boundaries"
   ]
  },
  {
   "cell_type": "markdown",
   "metadata": {},
   "source": [
    "Compute the boundaries and store them for later re-use:"
   ]
  },
  {
   "cell_type": "code",
   "execution_count": null,
   "metadata": {
    "scrolled": true,
    "tags": [
     "hide-cell"
    ]
   },
   "outputs": [],
   "source": [
    "all_boundaries = get_all_boundaries(stack_df)\n",
    "bound_df = pd.DataFrame(all_boundaries).T\n",
    "bound_df.tail()"
   ]
  },
  {
   "cell_type": "code",
   "execution_count": 38,
   "metadata": {
    "tags": [
     "hide-cell"
    ]
   },
   "outputs": [],
   "source": [
    "bound_df.to_csv('../data/processed/csv/bound_df.csv')"
   ]
  },
  {
   "cell_type": "markdown",
   "metadata": {},
   "source": [
    "To make things faster, we can re-load the computed boundaries here:"
   ]
  },
  {
   "cell_type": "code",
   "execution_count": null,
   "metadata": {
    "tags": [
     "hide-cell"
    ]
   },
   "outputs": [],
   "source": [
    "bound_df = pd.read_csv('../data/processed/csv/bound_df.csv',index_col=[0],header=0)\n",
    "bound_df.tail()"
   ]
  },
  {
   "cell_type": "markdown",
   "metadata": {},
   "source": [
    "rename so boundaries have meaningful descriptions:"
   ]
  },
  {
   "cell_type": "code",
   "execution_count": null,
   "metadata": {
    "tags": [
     "hide-cell"
    ]
   },
   "outputs": [],
   "source": [
    "bound_df = bound_df.rename(columns={'0':'B/R','1':'L/B'})\n",
    "bound_df.tail()"
   ]
  },
  {
   "cell_type": "code",
   "execution_count": 41,
   "metadata": {
    "tags": [
     "hide-cell"
    ]
   },
   "outputs": [
    {
     "data": {
      "text/html": [
       "<div>\n",
       "<style scoped>\n",
       "    .dataframe tbody tr th:only-of-type {\n",
       "        vertical-align: middle;\n",
       "    }\n",
       "\n",
       "    .dataframe tbody tr th {\n",
       "        vertical-align: top;\n",
       "    }\n",
       "\n",
       "    .dataframe thead th {\n",
       "        text-align: right;\n",
       "    }\n",
       "</style>\n",
       "<table border=\"1\" class=\"dataframe\">\n",
       "  <thead>\n",
       "    <tr style=\"text-align: right;\">\n",
       "      <th></th>\n",
       "      <th>B/R</th>\n",
       "      <th>L/B</th>\n",
       "    </tr>\n",
       "  </thead>\n",
       "  <tbody>\n",
       "    <tr>\n",
       "      <th>count</th>\n",
       "      <td>63.000000</td>\n",
       "      <td>63.000000</td>\n",
       "    </tr>\n",
       "    <tr>\n",
       "      <th>mean</th>\n",
       "      <td>-0.014422</td>\n",
       "      <td>0.036100</td>\n",
       "    </tr>\n",
       "    <tr>\n",
       "      <th>std</th>\n",
       "      <td>0.001315</td>\n",
       "      <td>0.000881</td>\n",
       "    </tr>\n",
       "    <tr>\n",
       "      <th>min</th>\n",
       "      <td>-0.020902</td>\n",
       "      <td>0.034503</td>\n",
       "    </tr>\n",
       "    <tr>\n",
       "      <th>25%</th>\n",
       "      <td>-0.014501</td>\n",
       "      <td>0.035804</td>\n",
       "    </tr>\n",
       "    <tr>\n",
       "      <th>50%</th>\n",
       "      <td>-0.014501</td>\n",
       "      <td>0.036104</td>\n",
       "    </tr>\n",
       "    <tr>\n",
       "      <th>75%</th>\n",
       "      <td>-0.014501</td>\n",
       "      <td>0.036304</td>\n",
       "    </tr>\n",
       "    <tr>\n",
       "      <th>max</th>\n",
       "      <td>-0.009301</td>\n",
       "      <td>0.041304</td>\n",
       "    </tr>\n",
       "  </tbody>\n",
       "</table>\n",
       "</div>"
      ],
      "text/plain": [
       "             B/R        L/B\n",
       "count  63.000000  63.000000\n",
       "mean   -0.014422   0.036100\n",
       "std     0.001315   0.000881\n",
       "min    -0.020902   0.034503\n",
       "25%    -0.014501   0.035804\n",
       "50%    -0.014501   0.036104\n",
       "75%    -0.014501   0.036304\n",
       "max    -0.009301   0.041304"
      ]
     },
     "execution_count": 41,
     "metadata": {},
     "output_type": "execute_result"
    }
   ],
   "source": [
    "bound_df.describe()"
   ]
  },
  {
   "cell_type": "markdown",
   "metadata": {},
   "source": [
    "#### show the class boundaries overlaid on the data distribution"
   ]
  },
  {
   "cell_type": "code",
   "execution_count": 42,
   "metadata": {
    "tags": [
     "hide-cell"
    ]
   },
   "outputs": [
    {
     "name": "stderr",
     "output_type": "stream",
     "text": [
      "/data/condaEnvs/volumeAnalysis/lib/python3.6/site-packages/scipy/stats/stats.py:1713: FutureWarning: Using a non-tuple sequence for multidimensional indexing is deprecated; use `arr[tuple(seq)]` instead of `arr[seq]`. In the future this will be interpreted as an array index, `arr[np.array(seq)]`, which will result either in an error or a different result.\n",
      "  return np.add.reduce(sorted[indexer] * weights, axis=axis) / sumval\n"
     ]
    },
    {
     "data": {
      "image/png": "[encoded data removed]",
      "text/plain": [
       "<Figure size 576x360 with 1 Axes>"
      ]
     },
     "metadata": {
      "needs_background": "light"
     },
     "output_type": "display_data"
    }
   ],
   "source": [
    "fig,ax = plt.subplots(1,1,figsize=(8,5))\n",
    "for group in my_groups:\n",
    "    sns.distplot(stack_df.loc[group,:],color=my_cols[group],label=group,ax=ax)\n",
    "    \n",
    "for b in bound_df.values.flatten():\n",
    "    plt.axvline(b,alpha=0.1,color=color_dict['black'])\n",
    "    \n",
    "plt.legend()\n",
    "plt.xlabel('correlation')\n",
    "plt.ylabel('density')\n",
    "plt.xlim(0.4,-0.4,-0.2)\n",
    "plt.ylim(0,8)\n",
    "plt.legend(loc=(0.65,0.65))\n",
    "sns.despine(trim=True,offset=5)\n",
    "plt.savefig('../reports/figures/10-distribution-plot.png',dpi=300,bbox_inches='tight')\n",
    "plt.show()"
   ]
  },
  {
   "cell_type": "markdown",
   "metadata": {},
   "source": [
    "#### make swarm/factorplot with boundary values"
   ]
  },
  {
   "cell_type": "code",
   "execution_count": 43,
   "metadata": {
    "tags": [
     "hide-cell"
    ]
   },
   "outputs": [],
   "source": [
    "sns_df = pd.DataFrame(bound_df.stack())\n",
    "sns_df.columns = ['correlation']\n",
    "sns_df.loc[:,'boundary'] = sns_df.index.get_level_values(1)\n",
    "sns_df.loc[:,'dummy'] = 0"
   ]
  },
  {
   "cell_type": "code",
   "execution_count": null,
   "metadata": {
    "tags": [
     "hide-cell"
    ]
   },
   "outputs": [],
   "source": [
    "sns_df.tail()"
   ]
  },
  {
   "cell_type": "code",
   "execution_count": 45,
   "metadata": {
    "tags": [
     "hide-cell"
    ]
   },
   "outputs": [
    {
     "data": {
      "image/png": "[encoded data removed]",
      "text/plain": [
       "<Figure size 288x360 with 1 Axes>"
      ]
     },
     "metadata": {
      "needs_background": "light"
     },
     "output_type": "display_data"
    }
   ],
   "source": [
    "fig,ax = plt.subplots(1,1,figsize=(4,5))\n",
    "sns.swarmplot(data=sns_df,\n",
    "              x='correlation',\n",
    "              y='dummy',\n",
    "              hue='boundary',\n",
    "              orient='h',\n",
    "              palette={'L/B':my_cols['left'],'B/R':my_cols['right']},\n",
    "              size=4,\n",
    "              alpha=0.9,\n",
    "              ax=ax\n",
    "             )\n",
    "plt.xlim(0.04,-0.02,-0.02)\n",
    "ax.set_ylabel('')\n",
    "ax.set_yticks([])\n",
    "sns.despine(left=True,trim=True)\n",
    "plt.savefig('../reports/figures/10-boundary-swarm-plot.png',dpi=300,bbox_inches='tight')\n",
    "\n",
    "plt.show()"
   ]
  },
  {
   "cell_type": "markdown",
   "metadata": {},
   "source": [
    "### combine above into one plot"
   ]
  },
  {
   "cell_type": "code",
   "execution_count": 46,
   "metadata": {
    "tags": [
     "hide-cell"
    ]
   },
   "outputs": [],
   "source": [
    "sns.set_style('dark')"
   ]
  },
  {
   "cell_type": "code",
   "execution_count": 47,
   "metadata": {
    "tags": [
     "hide-cell"
    ]
   },
   "outputs": [
    {
     "data": {
      "image/png": "[encoded data removed]",
      "text/plain": [
       "<Figure size 1152x432 with 3 Axes>"
      ]
     },
     "metadata": {},
     "output_type": "display_data"
    }
   ],
   "source": [
    "fig = plt.figure(figsize=(16,6))\n",
    "\n",
    "ax1 = fig.add_axes([0.36, .999, 1, .7], xticklabels=[], yticklabels=[])\n",
    "ax1.imshow(Image.open('../reports/figures/10-dynamite-plot.png'))\n",
    "\n",
    "ax2 = fig.add_axes([0, 1, 1, 0.8], xticklabels=[], yticklabels=[])\n",
    "ax2.imshow(Image.open('../reports/figures/10-distribution-plot.png'))\n",
    "\n",
    "ax3 = fig.add_axes([0.65, 1, 1, 0.8], xticklabels=[], yticklabels=[])\n",
    "ax3.imshow(Image.open('../reports/figures/10-boundary-swarm-plot.png'))\n",
    "\n",
    "plt.text(0,1, 'A',transform=ax2.transAxes, fontsize=32)\n",
    "plt.text(1.04,1, 'B',transform=ax2.transAxes, fontsize=32)\n",
    "plt.text(1.63,1, 'C',transform=ax2.transAxes, fontsize=32)\n",
    "\n",
    "plt.savefig('../reports/figures/10-training-overview.png',dpi=300,bbox_inches='tight')\n",
    "plt.show()"
   ]
  },
  {
   "cell_type": "markdown",
   "metadata": {},
   "source": [
    "### make predictions for all patients (conc and inconc)"
   ]
  },
  {
   "cell_type": "markdown",
   "metadata": {},
   "source": [
    "#### invert"
   ]
  },
  {
   "cell_type": "code",
   "execution_count": 48,
   "metadata": {
    "tags": [
     "hide-cell"
    ]
   },
   "outputs": [],
   "source": [
    "all_inv_df = group_df*conds"
   ]
  },
  {
   "cell_type": "code",
   "execution_count": null,
   "metadata": {
    "tags": [
     "hide-cell"
    ]
   },
   "outputs": [],
   "source": [
    "all_inv_df.tail()"
   ]
  },
  {
   "cell_type": "code",
   "execution_count": 50,
   "metadata": {},
   "outputs": [],
   "source": [
    "def make_preds(this_df,clf,my_scaler,my_labeler):\n",
    "    '''apply fitted classifier to the held-out patient;\n",
    "    based on what has been done during training, we\n",
    "    * scale the features using the stored scaler\n",
    "    * transform the labels using the stored labeler\n",
    "    * apply the classifier using the stored classfier\n",
    "    '''\n",
    "    \n",
    "    scaled_features = my_scaler.transform(this_df.T)\n",
    "    predictions = clf.predict(scaled_features)\n",
    "    labeled_predictions = my_labeler.inverse_transform(predictions)\n",
    "        \n",
    "    counts = pd.Series(labeled_predictions).value_counts()\n",
    "    counts_df = pd.DataFrame(counts).T\n",
    "    counts_df.index = pd.MultiIndex.from_tuples(this_df.index)\n",
    "    \n",
    "    return counts_df"
   ]
  },
  {
   "cell_type": "markdown",
   "metadata": {},
   "source": [
    "Example:"
   ]
  },
  {
   "cell_type": "code",
   "execution_count": null,
   "metadata": {
    "scrolled": true,
    "tags": [
     "hide-cell"
    ]
   },
   "outputs": [],
   "source": [
    "make_preds(all_inv_df.iloc[[-1]],example_clf, example_scaler, example_labeler)"
   ]
  },
  {
   "cell_type": "code",
   "execution_count": 52,
   "metadata": {
    "scrolled": true,
    "tags": [
     "hide-cell"
    ]
   },
   "outputs": [
    {
     "name": "stderr",
     "output_type": "stream",
     "text": [
      "100%|██████████| 96/96 [07:08<00:00,  4.45s/it]\n"
     ]
    }
   ],
   "source": [
    "import warnings\n",
    "# this is necessary to get rid of https://github.com/scikit-learn/scikit-learn/issues/10449\n",
    "with warnings.catch_warnings():\n",
    "    warnings.filterwarnings(\"ignore\",category=DeprecationWarning)\n",
    "\n",
    "    for p in tqdm.tqdm(all_inv_df.index):\n",
    "\n",
    "        # get data in leave-one-out fashion\n",
    "        this_df = all_inv_df.loc[[p],:]\n",
    "        other_df = stack_df.drop(p[-1],level=1)\n",
    "\n",
    "        # train on this fold's data\n",
    "        clf,my_scaler,my_labeler = train_classifier(other_df)\n",
    "        # make predictions\n",
    "        p_df = make_preds(this_df,clf,my_scaler,my_labeler)\n",
    "\n",
    "        out_name = '../data/processed/csv/%s_counts_df.csv' % p[-1]\n",
    "        p_df.to_csv(out_name)\n",
    "        data_df.loc[p,'counts_df'] = out_name\n",
    "\n",
    "data_df.to_csv('../data/processed/csv/info_epi_zscored_zdiff_summarymaps_2dpredclean_corr_counts_df.csv') "
   ]
  },
  {
   "cell_type": "markdown",
   "metadata": {},
   "source": [
    "### train classifier once on all data and store\n",
    "\n",
    "We store a classifer trained on all data as a pickle file so we can re-use it in the future on new data"
   ]
  },
  {
   "cell_type": "code",
   "execution_count": 53,
   "metadata": {
    "tags": [
     "hide-cell"
    ]
   },
   "outputs": [],
   "source": [
    "clf,my_scaler,my_labeler = train_classifier(stack_df)\n",
    "d = {'clf':clf,'scaler':my_scaler,'labeler':my_labeler}"
   ]
  },
  {
   "cell_type": "code",
   "execution_count": 54,
   "metadata": {
    "tags": [
     "hide-cell"
    ]
   },
   "outputs": [],
   "source": [
    "with open('../models/volume_clf.p','wb') as f:\n",
    "    pickle.dump(d,f)"
   ]
  },
  {
   "cell_type": "markdown",
   "metadata": {},
   "source": [
    "#### toolbox model\n",
    "\n",
    "The toolbox assumes that a dataset used as input is a new dataset and was not part of this study"
   ]
  },
  {
   "cell_type": "code",
   "execution_count": 55,
   "metadata": {
    "tags": [
     "show-cell"
    ]
   },
   "outputs": [],
   "source": [
    "#clf_file = os.path.join(supDir,'models','volume_clf.p')\n",
    "#with open(clf_file,'rb') as f:\n",
    "#    clf_dict = pickle.load(f)\n",
    "#    \n",
    "#clf = clf_dict['clf']\n",
    "#my_scaler = clf_dict['scaler']\n",
    "#my_labeler = clf_dict['labeler']"
   ]
  },
  {
   "cell_type": "code",
   "execution_count": 56,
   "metadata": {
    "tags": [
     "show-cell"
    ]
   },
   "outputs": [],
   "source": [
    "#def make_p(pFolder,pName,clf=clf,my_scaler=my_scaler,my_labeler=my_labeler):\n",
    "#    \n",
    "#    filename = os.path.join(pFolder, ''.join([ pName, '_corr_df.csv']))\n",
    "#    this_df = pd.read_csv(filename, index_col=[0], header=0)\n",
    "#    this_df.index = [['correlations'],[pName]]\n",
    "#    inv_df = this_df*conds\n",
    "#    counts_df = make_preds(inv_df,clf,my_scaler,my_labeler)\n",
    "#\n",
    "#    out_name = os.path.join(pFolder, ''.join([ pName, '_counts_df.csv']))\n",
    "#    counts_df.to_csv(out_name)\n",
    "#\n",
    "#    return out_name"
   ]
  },
  {
   "cell_type": "markdown",
   "metadata": {},
   "source": [
    "### summary\n",
    "\n",
    "For each patient, a classfier has been developed based on all the other patient (Leave-One-Out) and applied to the 200 volumes of that patient. There are now 200 decisions for each patient, as many as there are volumes. These data are stored in csv files which we can now access to make a prediction on the level of the patient.  \n",
    "\n",
    "\n",
    "**************\n",
    "\n",
    "< [Previous](09-mw-correlations-with-template.ipynb) | [Contents](00-mw-overview-notebook.ipynb) | [Next >](11-mw-logistic-regression.ipynb)"
   ]
  }
 ],
 "metadata": {
  "celltoolbar": "Tags",
  "kernelspec": {
   "display_name": "Python 3",
   "language": "python",
   "name": "python3"
  },
  "language_info": {
   "codemirror_mode": {
    "name": "ipython",
    "version": 3
   },
   "file_extension": ".py",
   "mimetype": "text/x-python",
   "name": "python",
   "nbconvert_exporter": "python",
   "pygments_lexer": "ipython3",
   "version": "3.6.7"
  },
  "varInspector": {
   "cols": {
    "lenName": 16,
    "lenType": 16,
    "lenVar": 40
   },
   "kernels_config": {
    "python": {
     "delete_cmd_postfix": "",
     "delete_cmd_prefix": "del ",
     "library": "var_list.py",
     "varRefreshCmd": "print(var_dic_list())"
    },
    "r": {
     "delete_cmd_postfix": ") ",
     "delete_cmd_prefix": "rm(",
     "library": "var_list.r",
     "varRefreshCmd": "cat(var_dic_list()) "
    }
   },
   "types_to_exclude": [
    "module",
    "function",
    "builtin_function_or_method",
    "instance",
    "_Feature"
   ],
   "window_display": false
  }
 },
 "nbformat": 4,
 "nbformat_minor": 2
}
